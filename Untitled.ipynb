{
 "cells": [
  {
   "cell_type": "code",
   "execution_count": 1,
   "metadata": {
    "collapsed": true
   },
   "outputs": [],
   "source": [
    "#!/usr/bin/env python -u\n",
    "import datetime, time\n",
    "\n",
    "class AnimalShelter:\n",
    "    def __init__(self):\n",
    "        self.cats, self.dogs = [], []\n",
    "\n",
    "    def enqueue(self, animal):\n",
    "        if animal.__class__ == Cat:\n",
    "            self.cats.append(animal)\n",
    "        else:\n",
    "            self.dogs.append(animal)\n",
    "\n",
    "    def dequeueAny(self):\n",
    "        print(self.cats[0].timestamp, self.dogs[0].timestamp)\n",
    "        if self.cats[0].timestamp <= self.dogs[0].timestamp:\n",
    "            return self.dequeueCat()\n",
    "        return self.dequeueDog()\n",
    "\n",
    "    def dequeueCat(self):\n",
    "        if not self.cats:\n",
    "            print(\"No cats in the shelter\")\n",
    "            return None\n",
    "        return self.cats.pop(0)\n",
    "\n",
    "    def dequeueDog(self):\n",
    "        if not self.dogs:\n",
    "            print(\"No dogs in the shelter\")\n",
    "            return None\n",
    "        return self.dogs.pop(0)\n",
    "\n",
    "    def peek(self):\n",
    "        print(self.cats, self.dogs)\n",
    "\n",
    "class Animal:\n",
    "    def __init__(self, name, timestamp=datetime.datetime.now()):\n",
    "        self.name = name\n",
    "        self.timestamp = timestamp\n",
    "\n",
    "    def __repr__(self):\n",
    "        return repr(self.name)\n",
    "\n",
    "class Cat(Animal): pass\n",
    "class Dog(Animal): pass"
   ]
  },
  {
   "cell_type": "code",
   "execution_count": 2,
   "metadata": {
    "collapsed": false
   },
   "outputs": [
    {
     "name": "stdout",
     "output_type": "stream",
     "text": [
      "['Spooky', 'Princess', 'Black Cat'] []\n"
     ]
    }
   ],
   "source": [
    "s = AnimalShelter()\n",
    "s.enqueue(Cat(\"Spooky\"))\n",
    "s.enqueue(Cat(\"Princess\"))\n",
    "s.enqueue(Cat(\"Black Cat\"))\n",
    "s.peek()"
   ]
  },
  {
   "cell_type": "code",
   "execution_count": 3,
   "metadata": {
    "collapsed": false
   },
   "outputs": [
    {
     "name": "stdout",
     "output_type": "stream",
     "text": [
      "['Spooky', 'Princess', 'Black Cat'] ['Luna', 'Lola', 'Theo']\n"
     ]
    }
   ],
   "source": [
    "s.enqueue(Dog(\"Luna\"))\n",
    "s.enqueue(Dog(\"Lola\"))\n",
    "s.enqueue(Dog(\"Theo\"))\n",
    "s.peek()"
   ]
  },
  {
   "cell_type": "code",
   "execution_count": 4,
   "metadata": {
    "collapsed": false
   },
   "outputs": [
    {
     "name": "stdout",
     "output_type": "stream",
     "text": [
      "2018-08-20 21:57:22.187761 2018-08-20 21:57:22.187761\n"
     ]
    },
    {
     "data": {
      "text/plain": [
       "'Spooky'"
      ]
     },
     "execution_count": 4,
     "metadata": {},
     "output_type": "execute_result"
    }
   ],
   "source": [
    "s.dequeueAny()"
   ]
  },
  {
   "cell_type": "code",
   "execution_count": null,
   "metadata": {
    "collapsed": true
   },
   "outputs": [],
   "source": []
  }
 ],
 "metadata": {
  "kernelspec": {
   "display_name": "Python 3",
   "language": "python",
   "name": "python3"
  },
  "language_info": {
   "codemirror_mode": {
    "name": "ipython",
    "version": 3
   },
   "file_extension": ".py",
   "mimetype": "text/x-python",
   "name": "python",
   "nbconvert_exporter": "python",
   "pygments_lexer": "ipython3",
   "version": "3.5.2"
  }
 },
 "nbformat": 4,
 "nbformat_minor": 1
}
